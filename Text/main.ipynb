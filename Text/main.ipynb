{
 "cells": [
  {
   "cell_type": "code",
   "execution_count": 1,
   "metadata": {},
   "outputs": [
    {
     "name": "stdout",
     "output_type": "stream",
     "text": [
      "• I'm Md Salman shams, persuing B.Tech in Mechanical engineering from JMI Delhi.\n",
      "• 2+ years of Experience in learning Data Science using ML/DL Algorithms, Computer \n",
      "Vision, Embedded Systems and Cloud Computing (AWS).\n",
      "• 3 months of Industrial Experience.\n",
      "• Working Experience & Extensive knowledge in Python, C++ and JavaScript.\n",
      "• Libraries such as OpenCV, TensorFlow, PyTorch, Sklearn, Skimage, MediaPipe, \n",
      "Numpy, JAX, pyFirmata are used to successfully deliver Automation Projects.\n",
      "• Worked on tools like – Visual studio, PyCharm, Jupyter Notebook, Arduino IDE.\n",
      "• Recognized and got appreciation on social media platforms, such as Linkedin, \n",
      "Medium, GitHub.\n",
      "• Have Excellent communication and agile team working experience.\n"
     ]
    }
   ],
   "source": [
    "with open(r'file.txt') as file:\n",
    "    content = file.read()\n",
    "\n",
    "print(content)"
   ]
  },
  {
   "cell_type": "code",
   "execution_count": null,
   "metadata": {},
   "outputs": [],
   "source": []
  }
 ],
 "metadata": {
  "kernelspec": {
   "display_name": "Python 3",
   "language": "python",
   "name": "python3"
  },
  "language_info": {
   "codemirror_mode": {
    "name": "ipython",
    "version": 3
   },
   "file_extension": ".py",
   "mimetype": "text/x-python",
   "name": "python",
   "nbconvert_exporter": "python",
   "pygments_lexer": "ipython3",
   "version": "3.8.15"
  },
  "orig_nbformat": 4
 },
 "nbformat": 4,
 "nbformat_minor": 2
}
