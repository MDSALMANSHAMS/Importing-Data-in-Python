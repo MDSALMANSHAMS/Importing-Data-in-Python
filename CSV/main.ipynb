{
 "cells": [
  {
   "cell_type": "code",
   "execution_count": 2,
   "metadata": {},
   "outputs": [
    {
     "data": {
      "text/html": [
       "<div>\n",
       "<style scoped>\n",
       "    .dataframe tbody tr th:only-of-type {\n",
       "        vertical-align: middle;\n",
       "    }\n",
       "\n",
       "    .dataframe tbody tr th {\n",
       "        vertical-align: top;\n",
       "    }\n",
       "\n",
       "    .dataframe thead th {\n",
       "        text-align: right;\n",
       "    }\n",
       "</style>\n",
       "<table border=\"1\" class=\"dataframe\">\n",
       "  <thead>\n",
       "    <tr style=\"text-align: right;\">\n",
       "      <th></th>\n",
       "      <th>Series_reference</th>\n",
       "      <th>Period</th>\n",
       "      <th>Data_value</th>\n",
       "      <th>Suppressed</th>\n",
       "      <th>STATUS</th>\n",
       "      <th>UNITS</th>\n",
       "      <th>Magnitude</th>\n",
       "      <th>Subject</th>\n",
       "      <th>Group</th>\n",
       "      <th>Series_title_1</th>\n",
       "      <th>Series_title_2</th>\n",
       "      <th>Series_title_3</th>\n",
       "      <th>Series_title_4</th>\n",
       "      <th>Series_title_5</th>\n",
       "    </tr>\n",
       "  </thead>\n",
       "  <tbody>\n",
       "    <tr>\n",
       "      <th>0</th>\n",
       "      <td>BDCQ.SF1AA2CA</td>\n",
       "      <td>2016.06</td>\n",
       "      <td>1116.386</td>\n",
       "      <td>NaN</td>\n",
       "      <td>F</td>\n",
       "      <td>Dollars</td>\n",
       "      <td>6</td>\n",
       "      <td>Business Data Collection - BDC</td>\n",
       "      <td>Industry by financial variable (NZSIOC Level 2)</td>\n",
       "      <td>Sales (operating income)</td>\n",
       "      <td>Forestry and Logging</td>\n",
       "      <td>Current prices</td>\n",
       "      <td>Unadjusted</td>\n",
       "      <td>NaN</td>\n",
       "    </tr>\n",
       "    <tr>\n",
       "      <th>1</th>\n",
       "      <td>BDCQ.SF1AA2CA</td>\n",
       "      <td>2016.09</td>\n",
       "      <td>1070.874</td>\n",
       "      <td>NaN</td>\n",
       "      <td>F</td>\n",
       "      <td>Dollars</td>\n",
       "      <td>6</td>\n",
       "      <td>Business Data Collection - BDC</td>\n",
       "      <td>Industry by financial variable (NZSIOC Level 2)</td>\n",
       "      <td>Sales (operating income)</td>\n",
       "      <td>Forestry and Logging</td>\n",
       "      <td>Current prices</td>\n",
       "      <td>Unadjusted</td>\n",
       "      <td>NaN</td>\n",
       "    </tr>\n",
       "    <tr>\n",
       "      <th>2</th>\n",
       "      <td>BDCQ.SF1AA2CA</td>\n",
       "      <td>2016.12</td>\n",
       "      <td>1054.408</td>\n",
       "      <td>NaN</td>\n",
       "      <td>F</td>\n",
       "      <td>Dollars</td>\n",
       "      <td>6</td>\n",
       "      <td>Business Data Collection - BDC</td>\n",
       "      <td>Industry by financial variable (NZSIOC Level 2)</td>\n",
       "      <td>Sales (operating income)</td>\n",
       "      <td>Forestry and Logging</td>\n",
       "      <td>Current prices</td>\n",
       "      <td>Unadjusted</td>\n",
       "      <td>NaN</td>\n",
       "    </tr>\n",
       "  </tbody>\n",
       "</table>\n",
       "</div>"
      ],
      "text/plain": [
       "  Series_reference   Period  Data_value Suppressed STATUS    UNITS  Magnitude  \\\n",
       "0    BDCQ.SF1AA2CA  2016.06    1116.386        NaN      F  Dollars          6   \n",
       "1    BDCQ.SF1AA2CA  2016.09    1070.874        NaN      F  Dollars          6   \n",
       "2    BDCQ.SF1AA2CA  2016.12    1054.408        NaN      F  Dollars          6   \n",
       "\n",
       "                          Subject  \\\n",
       "0  Business Data Collection - BDC   \n",
       "1  Business Data Collection - BDC   \n",
       "2  Business Data Collection - BDC   \n",
       "\n",
       "                                             Group            Series_title_1  \\\n",
       "0  Industry by financial variable (NZSIOC Level 2)  Sales (operating income)   \n",
       "1  Industry by financial variable (NZSIOC Level 2)  Sales (operating income)   \n",
       "2  Industry by financial variable (NZSIOC Level 2)  Sales (operating income)   \n",
       "\n",
       "         Series_title_2  Series_title_3 Series_title_4  Series_title_5  \n",
       "0  Forestry and Logging  Current prices     Unadjusted             NaN  \n",
       "1  Forestry and Logging  Current prices     Unadjusted             NaN  \n",
       "2  Forestry and Logging  Current prices     Unadjusted             NaN  "
      ]
     },
     "execution_count": 2,
     "metadata": {},
     "output_type": "execute_result"
    }
   ],
   "source": [
    "import pandas as pd\n",
    "\n",
    "file=pd.read_csv('file.csv')\n",
    "file.head(3)"
   ]
  },
  {
   "cell_type": "code",
   "execution_count": 4,
   "metadata": {},
   "outputs": [
    {
     "name": "stdout",
     "output_type": "stream",
     "text": [
      "['Series_reference', 'Period', 'Data_value', 'Suppressed', 'STATUS', 'UNITS', 'Magnitude', 'Subject', 'Group', 'Series_title_1', 'Series_title_2', 'Series_title_3', 'Series_title_4', 'Series_title_5']\n",
      "['BDCQ.SF1AA2CA', '2016.06', '1116.386', '', 'F', 'Dollars', '6', 'Business Data Collection - BDC', 'Industry by financial variable (NZSIOC Level 2)', 'Sales (operating income)', 'Forestry and Logging', 'Current prices', 'Unadjusted', '']\n",
      "['BDCQ.SF1AA2CA', '2016.09', '1070.874', '', 'F', 'Dollars', '6', 'Business Data Collection - BDC', 'Industry by financial variable (NZSIOC Level 2)', 'Sales (operating income)', 'Forestry and Logging', 'Current prices', 'Unadjusted', '']\n",
      "['BDCQ.SF1AA2CA', '2016.12', '1054.408', '', 'F', 'Dollars', '6', 'Business Data Collection - BDC', 'Industry by financial variable (NZSIOC Level 2)', 'Sales (operating income)', 'Forestry and Logging', 'Current prices', 'Unadjusted', '']\n",
      "['BDCQ.SF1AA2CA', '2017.03', '1010.665', '', 'F', 'Dollars', '6', 'Business Data Collection - BDC', 'Industry by financial variable (NZSIOC Level 2)', 'Sales (operating income)', 'Forestry and Logging', 'Current prices', 'Unadjusted', '']\n"
     ]
    }
   ],
   "source": [
    "import csv\n",
    "\n",
    "with open('file.csv', newline='') as csvfile:\n",
    "    reader = csv.reader(csvfile)\n",
    "    for i in range(5):\n",
    "        row = next(reader)\n",
    "        print(row)"
   ]
  },
  {
   "cell_type": "code",
   "execution_count": null,
   "metadata": {},
   "outputs": [],
   "source": []
  }
 ],
 "metadata": {
  "kernelspec": {
   "display_name": "Python 3",
   "language": "python",
   "name": "python3"
  },
  "language_info": {
   "codemirror_mode": {
    "name": "ipython",
    "version": 3
   },
   "file_extension": ".py",
   "mimetype": "text/x-python",
   "name": "python",
   "nbconvert_exporter": "python",
   "pygments_lexer": "ipython3",
   "version": "3.8.15"
  },
  "orig_nbformat": 4
 },
 "nbformat": 4,
 "nbformat_minor": 2
}
