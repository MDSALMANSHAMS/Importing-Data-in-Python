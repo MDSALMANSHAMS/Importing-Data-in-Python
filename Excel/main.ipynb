{
 "cells": [
  {
   "cell_type": "code",
   "execution_count": 7,
   "metadata": {},
   "outputs": [
    {
     "data": {
      "text/html": [
       "<div>\n",
       "<style scoped>\n",
       "    .dataframe tbody tr th:only-of-type {\n",
       "        vertical-align: middle;\n",
       "    }\n",
       "\n",
       "    .dataframe tbody tr th {\n",
       "        vertical-align: top;\n",
       "    }\n",
       "\n",
       "    .dataframe thead th {\n",
       "        text-align: right;\n",
       "    }\n",
       "</style>\n",
       "<table border=\"1\" class=\"dataframe\">\n",
       "  <thead>\n",
       "    <tr style=\"text-align: right;\">\n",
       "      <th></th>\n",
       "      <th>0</th>\n",
       "      <th>First Name</th>\n",
       "      <th>Last Name</th>\n",
       "      <th>Gender</th>\n",
       "      <th>Country</th>\n",
       "      <th>Age</th>\n",
       "      <th>Date</th>\n",
       "      <th>Id</th>\n",
       "    </tr>\n",
       "  </thead>\n",
       "  <tbody>\n",
       "    <tr>\n",
       "      <th>0</th>\n",
       "      <td>1</td>\n",
       "      <td>Dulce</td>\n",
       "      <td>Abril</td>\n",
       "      <td>Female</td>\n",
       "      <td>United States</td>\n",
       "      <td>32</td>\n",
       "      <td>15/10/2017</td>\n",
       "      <td>1562</td>\n",
       "    </tr>\n",
       "    <tr>\n",
       "      <th>1</th>\n",
       "      <td>2</td>\n",
       "      <td>Mara</td>\n",
       "      <td>Hashimoto</td>\n",
       "      <td>Female</td>\n",
       "      <td>Great Britain</td>\n",
       "      <td>25</td>\n",
       "      <td>16/08/2016</td>\n",
       "      <td>1582</td>\n",
       "    </tr>\n",
       "    <tr>\n",
       "      <th>2</th>\n",
       "      <td>3</td>\n",
       "      <td>Philip</td>\n",
       "      <td>Gent</td>\n",
       "      <td>Male</td>\n",
       "      <td>France</td>\n",
       "      <td>36</td>\n",
       "      <td>21/05/2015</td>\n",
       "      <td>2587</td>\n",
       "    </tr>\n",
       "    <tr>\n",
       "      <th>3</th>\n",
       "      <td>4</td>\n",
       "      <td>Kathleen</td>\n",
       "      <td>Hanner</td>\n",
       "      <td>Female</td>\n",
       "      <td>United States</td>\n",
       "      <td>25</td>\n",
       "      <td>15/10/2017</td>\n",
       "      <td>3549</td>\n",
       "    </tr>\n",
       "    <tr>\n",
       "      <th>4</th>\n",
       "      <td>5</td>\n",
       "      <td>Nereida</td>\n",
       "      <td>Magwood</td>\n",
       "      <td>Female</td>\n",
       "      <td>United States</td>\n",
       "      <td>58</td>\n",
       "      <td>16/08/2016</td>\n",
       "      <td>2468</td>\n",
       "    </tr>\n",
       "  </tbody>\n",
       "</table>\n",
       "</div>"
      ],
      "text/plain": [
       "   0 First Name  Last Name  Gender        Country  Age        Date    Id\n",
       "0  1      Dulce      Abril  Female  United States   32  15/10/2017  1562\n",
       "1  2       Mara  Hashimoto  Female  Great Britain   25  16/08/2016  1582\n",
       "2  3     Philip       Gent    Male         France   36  21/05/2015  2587\n",
       "3  4   Kathleen     Hanner  Female  United States   25  15/10/2017  3549\n",
       "4  5    Nereida    Magwood  Female  United States   58  16/08/2016  2468"
      ]
     },
     "execution_count": 7,
     "metadata": {},
     "output_type": "execute_result"
    }
   ],
   "source": [
    "import pandas as pd\n",
    "\n",
    "file=pd.read_excel('file.xlsx')\n",
    "file.head(5)"
   ]
  },
  {
   "cell_type": "code",
   "execution_count": 1,
   "metadata": {},
   "outputs": [
    {
     "name": "stdout",
     "output_type": "stream",
     "text": [
      "0\tFirst Name\tLast Name\tGender\tCountry\tAge\tDate\tId\t\n",
      "\n",
      "1\tDulce\tAbril\tFemale\tUnited States\t32\t15/10/2017\t1562\t\n",
      "\n",
      "2\tMara\tHashimoto\tFemale\tGreat Britain\t25\t16/08/2016\t1582\t\n",
      "\n",
      "3\tPhilip\tGent\tMale\tFrance\t36\t21/05/2015\t2587\t\n",
      "\n",
      "4\tKathleen\tHanner\tFemale\tUnited States\t25\t15/10/2017\t3549\t\n",
      "\n"
     ]
    }
   ],
   "source": [
    "\n",
    "import openpyxl\n",
    "\n",
    "workbook = openpyxl.load_workbook('file.xlsx')                   # Open the workbook\n",
    "worksheet = workbook.active                                      # Get the first sheet\n",
    "\n",
    "for i, row in enumerate(worksheet.iter_rows(values_only=True)):  # Iterate over rows and columns\n",
    "    if i == 5:\n",
    "        break\n",
    "        \n",
    "    for cell in row:\n",
    "        print(cell, end='\\t')                                    # Print the cell value\n",
    "\n",
    "    print('\\n')"
   ]
  },
  {
   "cell_type": "code",
   "execution_count": 36,
   "metadata": {},
   "outputs": [
    {
     "name": "stdout",
     "output_type": "stream",
     "text": [
      "1.0\tEldon Base for stackable storage shelf, platinum\tMuhammed MacIntyre\t3.0\t-213.25\t38.94\t35.0\tNunavut\tStorage & Organization\t0.8\t\n",
      "\n",
      "2.0\t1.7 Cubic Foot Compact \"Cube\" Office Refrigerators\tBarry French\t293.0\t457.81\t208.16\t68.02\tNunavut\tAppliances\t0.58\t\n",
      "\n",
      "3.0\tCardinal Slant-D® Ring Binder, Heavy Gauge Vinyl\tBarry French\t293.0\t46.7075\t8.69\t2.99\tNunavut\tBinders and Binder Accessories\t0.39\t\n",
      "\n",
      "4.0\tR380\tClay Rozendal\t483.0\t1198.971\t195.99\t3.99\tNunavut\tTelephones and Communication\t0.58\t\n",
      "\n",
      "5.0\tHolmes HEPA Air Purifier\tCarlos Soltero\t515.0\t30.94\t21.78\t5.94\tNunavut\tAppliances\t0.5\t\n",
      "\n"
     ]
    }
   ],
   "source": [
    "import xlrd\n",
    "\n",
    "workbook = xlrd.open_workbook('file.xls')    # Open the workbook\n",
    "worksheet = workbook.sheet_by_index(0)       # Get the first sheet\n",
    "\n",
    "for i in range(min(5, worksheet.nrows)):     # Iterate over rows and columns\n",
    "    row = worksheet.row_values(i)\n",
    "    \n",
    "    for cell in row:\n",
    "        print(cell, end='\\t')                # Print the cell value\n",
    " \n",
    "    print('\\n')"
   ]
  },
  {
   "cell_type": "code",
   "execution_count": null,
   "metadata": {},
   "outputs": [],
   "source": []
  }
 ],
 "metadata": {
  "kernelspec": {
   "display_name": "Python 3",
   "language": "python",
   "name": "python3"
  },
  "language_info": {
   "codemirror_mode": {
    "name": "ipython",
    "version": 3
   },
   "file_extension": ".py",
   "mimetype": "text/x-python",
   "name": "python",
   "nbconvert_exporter": "python",
   "pygments_lexer": "ipython3",
   "version": "3.8.15"
  },
  "orig_nbformat": 4
 },
 "nbformat": 4,
 "nbformat_minor": 2
}
